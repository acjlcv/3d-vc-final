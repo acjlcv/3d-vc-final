{
 "cells": [
  {
   "cell_type": "code",
   "execution_count": 1,
   "id": "007124ce",
   "metadata": {},
   "outputs": [],
   "source": [
    "import open3d as o3d\n",
    "import numpy as np\n",
    "import time"
   ]
  },
  {
   "cell_type": "code",
   "execution_count": 35,
   "id": "76a8e22a",
   "metadata": {},
   "outputs": [],
   "source": [
    "test_file = \"../tf-logs/GEN_Ours_bag_1749722196/out.npy\"\n",
    "test = np.load(test_file)\n",
    "\n",
    "spheres = None\n",
    "r = 0.015\n",
    "for p in test[2]:\n",
    "    point = np.expand_dims(p, 0).T\n",
    "    sphere = o3d.geometry.TriangleMesh.create_sphere(radius=r)\n",
    "    sphere.translate(point)\n",
    "\n",
    "    if spheres == None:\n",
    "        spheres = sphere\n",
    "    else:\n",
    "        spheres += sphere\n",
    "\n",
    "spheres.paint_uniform_color([.33, 0.53, 0.62])\n",
    "\n",
    "o3d.visualization.draw_geometries(\n",
    "    [spheres],\n",
    "    lookat=spheres.get_center(),\n",
    ")"
   ]
  }
 ],
 "metadata": {
  "kernelspec": {
   "display_name": "Python 3",
   "language": "python",
   "name": "python3"
  },
  "language_info": {
   "codemirror_mode": {
    "name": "ipython",
    "version": 3
   },
   "file_extension": ".py",
   "mimetype": "text/x-python",
   "name": "python",
   "nbconvert_exporter": "python",
   "pygments_lexer": "ipython3",
   "version": "3.11.6"
  }
 },
 "nbformat": 4,
 "nbformat_minor": 5
}
