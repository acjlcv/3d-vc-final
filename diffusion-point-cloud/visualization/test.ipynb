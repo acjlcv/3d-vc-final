{
 "cells": [
  {
   "cell_type": "code",
   "execution_count": 2,
   "id": "007124ce",
   "metadata": {},
   "outputs": [],
   "source": [
    "import open3d as o3d\n",
    "import numpy as np\n",
    "import time"
   ]
  },
  {
   "cell_type": "code",
   "execution_count": 3,
   "id": "76a8e22a",
   "metadata": {},
   "outputs": [
    {
     "name": "stderr",
     "output_type": "stream",
     "text": [
      "2025-06-13 06:58:30.596 Python[40988:22229444] ApplePersistenceIgnoreState: Existing state will not be touched. New state will be written to /var/folders/7f/x93x7t2x36j813t1g9tmzygc0000gn/T/org.python.python.savedState\n",
      "2025-06-13 06:58:31.177 Python[40988:22229444] WARNING: Secure coding is not enabled for restorable state! Enable secure coding by implementing NSApplicationDelegate.applicationSupportsSecureRestorableState: and returning YES.\n"
     ]
    }
   ],
   "source": [
    "test_file = \"../tf-logs/GEN_fm_airplane_1749722955/out.npy\"\n",
    "test = np.load(test_file)\n",
    "\n",
    "spheres = None\n",
    "r = 0.015\n",
    "for p in test[-1]:\n",
    "    point = np.expand_dims(p, 0).T\n",
    "    sphere = o3d.geometry.TriangleMesh.create_sphere(radius=r)\n",
    "    sphere.translate(point)\n",
    "\n",
    "    if spheres == None:\n",
    "        spheres = sphere\n",
    "    else:\n",
    "        spheres += sphere\n",
    "\n",
    "spheres.paint_uniform_color([.33, 0.53, 0.62])\n",
    "\n",
    "o3d.visualization.draw_geometries(\n",
    "    [spheres],\n",
    "    lookat=spheres.get_center(),\n",
    ")"
   ]
  }
 ],
 "metadata": {
  "kernelspec": {
   "display_name": "Python 3",
   "language": "python",
   "name": "python3"
  },
  "language_info": {
   "codemirror_mode": {
    "name": "ipython",
    "version": 3
   },
   "file_extension": ".py",
   "mimetype": "text/x-python",
   "name": "python",
   "nbconvert_exporter": "python",
   "pygments_lexer": "ipython3",
   "version": "3.11.6"
  }
 },
 "nbformat": 4,
 "nbformat_minor": 5
}
