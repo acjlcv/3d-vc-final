{
 "cells": [
  {
   "cell_type": "code",
   "execution_count": 1,
   "id": "23f8feed",
   "metadata": {},
   "outputs": [
    {
     "name": "stdout",
     "output_type": "stream",
     "text": [
      "Jupyter environment detected. Enabling Open3D WebVisualizer.\n",
      "[Open3D INFO] WebRTC GUI backend enabled.\n",
      "[Open3D INFO] WebRTCWindowSystem: HTTP handshake server disabled.\n"
     ]
    }
   ],
   "source": [
    "import torch\n",
    "from tqdm.auto import tqdm\n",
    "\n",
    "from models.vae_flow import *\n",
    "from models.flowmatch import *\n",
    "\n",
    "import open3d as o3d"
   ]
  },
  {
   "cell_type": "code",
   "execution_count": 2,
   "id": "6e5594c2",
   "metadata": {},
   "outputs": [],
   "source": [
    "device = \"cuda\" if torch.cuda.is_available() else \"cpu\"\n",
    "objects = [\"airplane\", \"bag\", \"table\", \"car\"]\n",
    "\n",
    "def normalize_point_clouds(pcs):\n",
    "    #normalize via shape_bbox\n",
    "    for i in tqdm(range(pcs.size(0))):\n",
    "        pc = pcs[i]\n",
    "        pc_max, _ = pc.max(dim=0, keepdim=True) # (1, 3)\n",
    "        pc_min, _ = pc.min(dim=0, keepdim=True) # (1, 3)\n",
    "        shift = ((pc_min + pc_max) / 2).view(1, 3)\n",
    "        scale = (pc_max - pc_min).max().reshape(1, 1) / 2\n",
    "        pc = (pc - shift) / scale\n",
    "        pcs[i] = pc\n",
    "    return pcs"
   ]
  },
  {
   "cell_type": "code",
   "execution_count": 3,
   "id": "b17b77df",
   "metadata": {},
   "outputs": [
    {
     "data": {
      "application/vnd.jupyter.widget-view+json": {
       "model_id": "eb201605d28b4333ae2a65aed330288c",
       "version_major": 2,
       "version_minor": 0
      },
      "text/plain": [
       "  0%|          | 0/4 [00:00<?, ?it/s]"
      ]
     },
     "metadata": {},
     "output_type": "display_data"
    }
   ],
   "source": [
    "#FlowVAE original paper ddpm\n",
    "flow_vae_pcs = []\n",
    "for obj in objects:\n",
    "    ckpt_file_dir = f\"pretrained/ckpt_gen_{obj}.pt\"\n",
    "\n",
    "    if device == \"cuda\":\n",
    "        ckpt = torch.load(ckpt_file_dir, weights_only=False)\n",
    "    else:\n",
    "        ckpt = torch.load(ckpt_file_dir, weights_only=False, map_location=\"cpu\")\n",
    "\n",
    "    model = FlowVAE(ckpt['args']).to(device)\n",
    "\n",
    "    with torch.no_grad():\n",
    "        z = torch.randn([1, ckpt['args'].latent_dim]).to(device)\n",
    "        x = model.sample(z, 2048, flexibility=ckpt['args'].flexibility)\n",
    "\n",
    "    flow_vae_pcs.append(x.detach().cpu())\n",
    "\n",
    "flow_vae_pcs = torch.cat(flow_vae_pcs, dim=0)[:4]\n",
    "flow_vae_pcs = normalize_point_clouds(flow_vae_pcs)\n",
    "np.save(\"visualization/flow_vae_out.npy\", flow_vae_pcs.numpy())"
   ]
  },
  {
   "cell_type": "code",
   "execution_count": 7,
   "id": "8939476e",
   "metadata": {},
   "outputs": [
    {
     "ename": "",
     "evalue": "",
     "output_type": "error",
     "traceback": [
      "\u001b[1;31mThe Kernel crashed while executing code in the current cell or a previous cell. \n",
      "\u001b[1;31mPlease review the code in the cell(s) to identify a possible cause of the failure. \n",
      "\u001b[1;31mClick <a href='https://aka.ms/vscodeJupyterKernelCrash'>here</a> for more info. \n",
      "\u001b[1;31mView Jupyter <a href='command:jupyter.viewOutput'>log</a> for further details."
     ]
    }
   ],
   "source": [
    "obj_name = \"bag\"\n",
    "test = flow_vae_pcs[obj_name].detach().cpu().numpy()[0]\n",
    "\n",
    "spheres = None\n",
    "r = 0.015\n",
    "for p in test:\n",
    "    point = np.expand_dims(p, 0).T\n",
    "    sphere = o3d.geometry.TriangleMesh.create_sphere(radius=r)\n",
    "    sphere.translate(point)\n",
    "\n",
    "    if spheres == None:\n",
    "        spheres = sphere\n",
    "    else:\n",
    "        spheres += sphere\n",
    "\n",
    "spheres.paint_uniform_color([.33, 0.53, 0.62])\n",
    "\n",
    "o3d.visualization.draw(\n",
    "    [spheres],\n",
    "    lookat=spheres.get_center(),\n",
    ")"
   ]
  },
  {
   "cell_type": "code",
   "execution_count": 4,
   "id": "fea0749b",
   "metadata": {},
   "outputs": [
    {
     "data": {
      "application/vnd.jupyter.widget-view+json": {
       "model_id": "8899fb6236e7452da3209e98cfec916a",
       "version_major": 2,
       "version_minor": 0
      },
      "text/plain": [
       "  0%|          | 0/4 [00:00<?, ?it/s]"
      ]
     },
     "metadata": {},
     "output_type": "display_data"
    }
   ],
   "source": [
    "#FlowVAE original paper ddpm\n",
    "fm_pcs = []\n",
    "for obj in objects:\n",
    "    ckpt_file_dir = f\"pretrained/ckpt_fm_{obj}.pt\"\n",
    "\n",
    "    if device == \"cuda\":\n",
    "        ckpt = torch.load(ckpt_file_dir, weights_only=False)\n",
    "    else:\n",
    "        ckpt = torch.load(ckpt_file_dir, weights_only=False, map_location=\"cpu\")\n",
    "\n",
    "    model = FlowMatch(ckpt['args']).to(device)\n",
    "\n",
    "    with torch.no_grad():\n",
    "        z = torch.randn([1, ckpt['args'].latent_dim]).to(device)\n",
    "        x = model.sample(z, 2048, flexibility=ckpt['args'].flexibility)\n",
    "\n",
    "    fm_pcs.append(x.detach().cpu())\n",
    "\n",
    "fm_pcs = torch.cat(fm_pcs, dim=0)[:4]\n",
    "fm_pcs = normalize_point_clouds(fm_pcs)\n",
    "np.save(\"visualization/fm_out.npy\", fm_pcs.numpy())"
   ]
  },
  {
   "cell_type": "code",
   "execution_count": 51,
   "id": "cfa618fd",
   "metadata": {},
   "outputs": [],
   "source": [
    "obj_name = \"airplane\"\n",
    "test = fm_pcs[obj_name].detach().cpu().numpy()[0]\n",
    "\n",
    "spheres = None\n",
    "r = 0.015\n",
    "for p in test:\n",
    "    point = np.expand_dims(p, 0).T\n",
    "    sphere = o3d.geometry.TriangleMesh.create_sphere(radius=r)\n",
    "    sphere.translate(point)\n",
    "\n",
    "    if spheres == None:\n",
    "        spheres = sphere\n",
    "    else:\n",
    "        spheres += sphere\n",
    "\n",
    "spheres.paint_uniform_color([.33, 0.53, 0.62])\n",
    "\n",
    "o3d.visualization.draw_geometries(\n",
    "    [spheres],\n",
    "    lookat=spheres.get_center(),\n",
    ")"
   ]
  }
 ],
 "metadata": {
  "kernelspec": {
   "display_name": "3d-vc-final",
   "language": "python",
   "name": "python3"
  },
  "language_info": {
   "codemirror_mode": {
    "name": "ipython",
    "version": 3
   },
   "file_extension": ".py",
   "mimetype": "text/x-python",
   "name": "python",
   "nbconvert_exporter": "python",
   "pygments_lexer": "ipython3",
   "version": "3.10.18"
  }
 },
 "nbformat": 4,
 "nbformat_minor": 5
}
