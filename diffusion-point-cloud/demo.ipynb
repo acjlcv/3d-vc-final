{
 "cells": [
  {
   "cell_type": "code",
   "execution_count": 1,
   "id": "23f8feed",
   "metadata": {},
   "outputs": [],
   "source": [
    "import torch\n",
    "from tqdm.auto import tqdm\n",
    "\n",
    "from models.vae_flow import *\n",
    "from models.flowmatch import *\n",
    "\n",
    "import open3d as o3d"
   ]
  },
  {
   "cell_type": "code",
   "execution_count": 2,
   "id": "6e5594c2",
   "metadata": {},
   "outputs": [],
   "source": [
    "device = \"cuda\" if torch.cuda.is_available() else \"mps\" #use cpu if not on mac arm\n",
    "objects = [\"airplane\", \"bag\", \"table\", \"car\"]\n",
    "\n",
    "def normalize_point_clouds(pcs):\n",
    "    #normalize via shape_bbox\n",
    "    for i in range(pcs.size(0)):\n",
    "        pc = pcs[i]\n",
    "        pc_max, _ = pc.max(dim=0, keepdim=True) # (1, 3)\n",
    "        pc_min, _ = pc.min(dim=0, keepdim=True) # (1, 3)\n",
    "        shift = ((pc_min + pc_max) / 2).view(1, 3)\n",
    "        scale = (pc_max - pc_min).max().reshape(1, 1) / 2\n",
    "        pc = (pc - shift) / scale\n",
    "        pcs[i] = pc\n",
    "    return pcs"
   ]
  },
  {
   "cell_type": "code",
   "execution_count": 3,
   "id": "b17b77df",
   "metadata": {},
   "outputs": [
    {
     "data": {
      "application/vnd.jupyter.widget-view+json": {
       "model_id": "feeaaa33cba54dbd929d1a39e5afe9f2",
       "version_major": 2,
       "version_minor": 0
      },
      "text/plain": [
       "  0%|          | 0/4 [00:00<?, ?it/s]"
      ]
     },
     "metadata": {},
     "output_type": "display_data"
    }
   ],
   "source": [
    "#FlowVAE original paper ddpm\n",
    "flow_vae_pcs = {}\n",
    "for obj in tqdm(objects):\n",
    "    ckpt_file_dir = f\"pretrained/ckpt_gen_{obj}.pt\"\n",
    "\n",
    "    if device == \"cuda\":\n",
    "        ckpt = torch.load(ckpt_file_dir, weights_only=False)\n",
    "    else:\n",
    "        ckpt = torch.load(ckpt_file_dir, weights_only=False, map_location=device)\n",
    "\n",
    "    model = FlowVAE(ckpt['args']).to(device)\n",
    "    model.load_state_dict(ckpt['state_dict'])\n",
    "\n",
    "    with torch.no_grad():\n",
    "        z = torch.randn([1, ckpt['args'].latent_dim]).to(device)\n",
    "        x = model.sample(z, 2048, flexibility=ckpt['args'].flexibility)\n",
    "\n",
    "    x = normalize_point_clouds(x)\n",
    "    flow_vae_pcs[obj] = x.detach().cpu()"
   ]
  },
  {
   "cell_type": "code",
   "execution_count": 19,
   "id": "8939476e",
   "metadata": {},
   "outputs": [],
   "source": [
    "obj_name = \"airplane\" #airplane, bag, table, car\n",
    "test = flow_vae_pcs[obj_name].numpy()[0]\n",
    "\n",
    "spheres = None\n",
    "r = 0.015\n",
    "for p in test:\n",
    "    point = np.expand_dims(p, 0).T\n",
    "    sphere = o3d.geometry.TriangleMesh.create_sphere(radius=r)\n",
    "    sphere.translate(point)\n",
    "\n",
    "    if spheres == None:\n",
    "        spheres = sphere\n",
    "    else:\n",
    "        spheres += sphere\n",
    "\n",
    "spheres.paint_uniform_color([.33, 0.53, 0.62])\n",
    "\n",
    "o3d.visualization.draw_geometries(\n",
    "    [spheres],\n",
    "    lookat=spheres.get_center(),\n",
    ")"
   ]
  },
  {
   "cell_type": "code",
   "execution_count": 16,
   "id": "fea0749b",
   "metadata": {},
   "outputs": [
    {
     "data": {
      "application/vnd.jupyter.widget-view+json": {
       "model_id": "25b0c8dac76e45d3ab7dd926531a0b89",
       "version_major": 2,
       "version_minor": 0
      },
      "text/plain": [
       "  0%|          | 0/4 [00:00<?, ?it/s]"
      ]
     },
     "metadata": {},
     "output_type": "display_data"
    }
   ],
   "source": [
    "#flow match\n",
    "fm_pcs = {}\n",
    "for obj in tqdm(objects):\n",
    "    ckpt_file_dir = f\"pretrained/ckpt_fm_{obj}.pt\"\n",
    "\n",
    "    if device == \"cuda\":\n",
    "        ckpt = torch.load(ckpt_file_dir, weights_only=False)\n",
    "    else:\n",
    "        ckpt = torch.load(ckpt_file_dir, weights_only=False, map_location=device)\n",
    "\n",
    "    model = FlowMatch(ckpt['args']).to(device)\n",
    "    model.load_state_dict(ckpt['state_dict'])\n",
    "\n",
    "    with torch.no_grad():\n",
    "        z = torch.randn([1, ckpt['args'].latent_dim]).to(device)\n",
    "        x = model.sample(z, 2048, flexibility=ckpt['args'].flexibility)\n",
    "    x = normalize_point_clouds(x)\n",
    "    fm_pcs[obj] = x.detach().cpu()"
   ]
  },
  {
   "cell_type": "code",
   "execution_count": 18,
   "id": "cfa618fd",
   "metadata": {},
   "outputs": [],
   "source": [
    "obj_name = \"airplane\" #airplane, bag, table, car\n",
    "test = fm_pcs[obj_name].numpy()[0]\n",
    "\n",
    "spheres = None\n",
    "r = 0.015\n",
    "for p in test:\n",
    "    point = np.expand_dims(p, 0).T\n",
    "    sphere = o3d.geometry.TriangleMesh.create_sphere(radius=r)\n",
    "    sphere.translate(point)\n",
    "\n",
    "    if spheres == None:\n",
    "        spheres = sphere\n",
    "    else:\n",
    "        spheres += sphere\n",
    "\n",
    "spheres.paint_uniform_color([.33, 0.53, 0.62])\n",
    "\n",
    "o3d.visualization.draw_geometries(\n",
    "    [spheres],\n",
    "    lookat=spheres.get_center(),\n",
    ")"
   ]
  }
 ],
 "metadata": {
  "kernelspec": {
   "display_name": "Python 3",
   "language": "python",
   "name": "python3"
  },
  "language_info": {
   "codemirror_mode": {
    "name": "ipython",
    "version": 3
   },
   "file_extension": ".py",
   "mimetype": "text/x-python",
   "name": "python",
   "nbconvert_exporter": "python",
   "pygments_lexer": "ipython3",
   "version": "3.11.6"
  }
 },
 "nbformat": 4,
 "nbformat_minor": 5
}
